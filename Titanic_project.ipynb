{
 "cells": [
  {
   "cell_type": "code",
   "execution_count": 485,
   "id": "2e555ef8",
   "metadata": {},
   "outputs": [],
   "source": [
    "import pandas as pd\n",
    "import numpy as np\n",
    "import matplotlib.pyplot as plt\n",
    "\n",
    "\n",
    "train = pd.read_csv(r'C:\\Users\\Lenovo\\OneDrive\\Pulpit\\MyProjects\\titanic\\train.csv')\n",
    "test = pd.read_csv(r'C:\\Users\\Lenovo\\OneDrive\\Pulpit\\MyProjects\\titanic\\test.csv')\n",
    "gender_sub = pd.read_csv(r'C:\\Users\\Lenovo\\OneDrive\\Pulpit\\MyProjects\\titanic\\gender_submission.csv')\n",
    "#train_y = train['Survived']\n",
    "#test_y = test['Survived']\n",
    "\n",
    "train_y = train['Survived']\n",
    "test_y=gender_sub['Survived']\n",
    "\n"
   ]
  },
  {
   "cell_type": "code",
   "execution_count": 486,
   "id": "9266da96",
   "metadata": {},
   "outputs": [],
   "source": [
    "train = train.drop('Survived', axis=1)"
   ]
  },
  {
   "cell_type": "code",
   "execution_count": 487,
   "id": "0147c5e8",
   "metadata": {},
   "outputs": [],
   "source": [
    "data=[train,test]\n",
    "for dataset in data:\n",
    "    dataset['Sex']=dataset['Sex'].map({'male':0, 'female':1})\n",
    "    dataset['Prefix'] = dataset['Name'].str.split(expand=True)[1]"
   ]
  },
  {
   "cell_type": "code",
   "execution_count": 488,
   "id": "2dc9db29",
   "metadata": {},
   "outputs": [],
   "source": [
    "train = train.drop('PassengerId', axis=1)\n",
    "test = test.drop('PassengerId', axis=1)"
   ]
  },
  {
   "cell_type": "code",
   "execution_count": null,
   "id": "31b700d7",
   "metadata": {},
   "outputs": [],
   "source": []
  },
  {
   "cell_type": "code",
   "execution_count": 489,
   "id": "f3b13447",
   "metadata": {},
   "outputs": [
    {
     "data": {
      "text/plain": [
       "Mr.        502\n",
       "Miss.      179\n",
       "Mrs.       121\n",
       "Master.     40\n",
       "Name: Prefix, dtype: int64"
      ]
     },
     "execution_count": 489,
     "metadata": {},
     "output_type": "execute_result"
    }
   ],
   "source": [
    "prefix = train['Prefix'].value_counts()\n",
    "prefix\n",
    "top_prefixes = prefix[prefix>len(train)/25]\n",
    "top_prefixes"
   ]
  },
  {
   "cell_type": "code",
   "execution_count": 490,
   "id": "47bec15c",
   "metadata": {},
   "outputs": [],
   "source": [
    "train['Prefix'] = train['Prefix'].apply(lambda x: x if x in top_prefixes else 'Other')\n",
    "test['Prefix'] = test['Prefix'].apply(lambda x: x if x in top_prefixes else 'Other')"
   ]
  },
  {
   "cell_type": "code",
   "execution_count": 491,
   "id": "b031cd84",
   "metadata": {},
   "outputs": [
    {
     "data": {
      "text/plain": [
       "Pclass        0\n",
       "Name          0\n",
       "Sex           0\n",
       "Age         177\n",
       "SibSp         0\n",
       "Parch         0\n",
       "Ticket        0\n",
       "Fare          0\n",
       "Cabin       687\n",
       "Embarked      2\n",
       "Prefix        0\n",
       "dtype: int64"
      ]
     },
     "execution_count": 491,
     "metadata": {},
     "output_type": "execute_result"
    }
   ],
   "source": [
    "train.isnull().sum()"
   ]
  },
  {
   "cell_type": "code",
   "execution_count": 492,
   "id": "b2fc9319",
   "metadata": {},
   "outputs": [
    {
     "data": {
      "text/plain": [
       "Pclass        0\n",
       "Name          0\n",
       "Sex           0\n",
       "Age          86\n",
       "SibSp         0\n",
       "Parch         0\n",
       "Ticket        0\n",
       "Fare          1\n",
       "Cabin       327\n",
       "Embarked      0\n",
       "Prefix        0\n",
       "dtype: int64"
      ]
     },
     "execution_count": 492,
     "metadata": {},
     "output_type": "execute_result"
    }
   ],
   "source": [
    "test.isnull().sum()"
   ]
  },
  {
   "cell_type": "code",
   "execution_count": 493,
   "id": "3353cf74",
   "metadata": {},
   "outputs": [],
   "source": [
    "#Dropping the columns that have more than 70% of data missing\n",
    "cols_null = train.columns[train.isnull().sum()>len(train)*0.7]"
   ]
  },
  {
   "cell_type": "code",
   "execution_count": 494,
   "id": "5b5f6f7a",
   "metadata": {},
   "outputs": [],
   "source": [
    "train = train.drop(cols_null, axis=1)\n",
    "test = test.drop(cols_null, axis=1)\n"
   ]
  },
  {
   "cell_type": "code",
   "execution_count": 499,
   "id": "fe4f8a18",
   "metadata": {},
   "outputs": [
    {
     "data": {
      "text/plain": [
       "0"
      ]
     },
     "execution_count": 499,
     "metadata": {},
     "output_type": "execute_result"
    }
   ],
   "source": [
    "#we are substituting one missing value with the mean value for Fare\n",
    "test['Fare'] = test['Fare'].fillna(test['Fare'].mean())\n"
   ]
  },
  {
   "cell_type": "code",
   "execution_count": 472,
   "id": "4d20f848",
   "metadata": {},
   "outputs": [
    {
     "data": {
      "text/plain": [
       "count    891.000000\n",
       "mean      32.204208\n",
       "std       49.693429\n",
       "min        0.000000\n",
       "25%        7.910400\n",
       "50%       14.454200\n",
       "75%       31.000000\n",
       "max      512.329200\n",
       "Name: Fare, dtype: float64"
      ]
     },
     "execution_count": 472,
     "metadata": {},
     "output_type": "execute_result"
    }
   ],
   "source": [
    "train.Fare.describe()"
   ]
  },
  {
   "cell_type": "code",
   "execution_count": 500,
   "id": "c2a5ba89",
   "metadata": {},
   "outputs": [],
   "source": [
    "#creating more generalized categories for fare\n",
    "train['Fare_cat'] = pd.qcut(train.Fare, q=4, labels=[1,2,3,4]) #categories based on price of ticket\n",
    "test['Fare_cat'] = pd.qcut(test.Fare, q=4, labels=[1,2,3,4])\n",
    "train['Fare_cat'] = train['Fare_cat'].astype('int64')\n",
    "test['Fare_cat'] = test['Fare_cat'].astype('int64')"
   ]
  },
  {
   "cell_type": "code",
   "execution_count": 474,
   "id": "f2ef7fee",
   "metadata": {},
   "outputs": [],
   "source": [
    "#now that we have fare categories, we can drop 'Fare' column\n",
    "train=train.drop('Fare', axis=1)\n",
    "test = test.drop('Fare', axis=1)"
   ]
  },
  {
   "cell_type": "code",
   "execution_count": 475,
   "id": "07eb1289",
   "metadata": {},
   "outputs": [],
   "source": [
    "#making combined category for family on board\n",
    "data=[train,test]\n",
    "for dataset in data:\n",
    "    dataset['Fam'] = dataset['SibSp']+dataset['Parch']\n",
    "    "
   ]
  },
  {
   "cell_type": "code",
   "execution_count": 476,
   "id": "112c82d6",
   "metadata": {},
   "outputs": [],
   "source": [
    "train = train.drop(['SibSp', 'Parch'], axis=1)\n",
    "test = test.drop(['SibSp', 'Parch'], axis=1)"
   ]
  },
  {
   "cell_type": "code",
   "execution_count": 477,
   "id": "d4f08959",
   "metadata": {},
   "outputs": [
    {
     "data": {
      "text/plain": [
       "Pclass        0\n",
       "Name          0\n",
       "Sex           0\n",
       "Age         177\n",
       "Ticket        0\n",
       "Embarked      2\n",
       "Prefix        0\n",
       "Fare_cat      0\n",
       "Fam           0\n",
       "dtype: int64"
      ]
     },
     "execution_count": 477,
     "metadata": {},
     "output_type": "execute_result"
    }
   ],
   "source": [
    "train.isnull().sum()"
   ]
  },
  {
   "cell_type": "code",
   "execution_count": 478,
   "id": "4b391576",
   "metadata": {},
   "outputs": [
    {
     "data": {
      "text/plain": [
       "Pclass        int64\n",
       "Name         object\n",
       "Sex           int64\n",
       "Age         float64\n",
       "Ticket       object\n",
       "Embarked     object\n",
       "Prefix       object\n",
       "Fare_cat      int64\n",
       "Fam           int64\n",
       "dtype: object"
      ]
     },
     "execution_count": 478,
     "metadata": {},
     "output_type": "execute_result"
    }
   ],
   "source": [
    "train.dtypes"
   ]
  },
  {
   "cell_type": "code",
   "execution_count": 479,
   "id": "e5d9c6fd",
   "metadata": {},
   "outputs": [],
   "source": [
    "\n",
    "obj_cats = train.columns[train.dtypes=='object']"
   ]
  },
  {
   "cell_type": "code",
   "execution_count": 480,
   "id": "34ec878a",
   "metadata": {},
   "outputs": [
    {
     "data": {
      "text/plain": [
       "Index(['Name', 'Ticket', 'Embarked', 'Prefix'], dtype='object')"
      ]
     },
     "execution_count": 480,
     "metadata": {},
     "output_type": "execute_result"
    }
   ],
   "source": [
    "obj_cats"
   ]
  },
  {
   "cell_type": "code",
   "execution_count": 481,
   "id": "fdadb839",
   "metadata": {},
   "outputs": [],
   "source": [
    "num_cats = train.columns[train.dtypes!='object']"
   ]
  },
  {
   "cell_type": "code",
   "execution_count": 482,
   "id": "3aceef4c",
   "metadata": {},
   "outputs": [
    {
     "data": {
      "text/plain": [
       "Index(['Pclass', 'Sex', 'Age', 'Fare_cat', 'Fam'], dtype='object')"
      ]
     },
     "execution_count": 482,
     "metadata": {},
     "output_type": "execute_result"
    }
   ],
   "source": [
    "num_cats"
   ]
  },
  {
   "cell_type": "code",
   "execution_count": 508,
   "id": "93529e64",
   "metadata": {},
   "outputs": [],
   "source": [
    "#as we got prefix we can get rid of 'Name' category\n",
    "#we can also drop information about the ticket since we decided to drop 'Cabin' column due to amount of lost data\n",
    "#the rest of object categories can be transformed by one hot encoding because they don't have too much unique values\n",
    "\n",
    "from sklearn.pipeline import Pipeline\n",
    "from sklearn.preprocessing import OneHotEncoder\n",
    "\n",
    "pipeline = Pipeline([('imputer', SimpleImputer(strategy='mean')), ('one_hot', OneHotEncoder(handle_unknown='ignore'))])\n"
   ]
  },
  {
   "cell_type": "code",
   "execution_count": null,
   "id": "6dc89e64",
   "metadata": {},
   "outputs": [],
   "source": []
  }
 ],
 "metadata": {
  "kernelspec": {
   "display_name": "Python 3 (ipykernel)",
   "language": "python",
   "name": "python3"
  },
  "language_info": {
   "codemirror_mode": {
    "name": "ipython",
    "version": 3
   },
   "file_extension": ".py",
   "mimetype": "text/x-python",
   "name": "python",
   "nbconvert_exporter": "python",
   "pygments_lexer": "ipython3",
   "version": "3.9.0"
  }
 },
 "nbformat": 4,
 "nbformat_minor": 5
}
